{
 "cells": [
  {
   "cell_type": "markdown",
   "metadata": {},
   "source": [
    "\n",
    "# 0 - Imports and defining functions"
   ]
  },
  {
   "cell_type": "code",
   "execution_count": null,
   "metadata": {},
   "outputs": [],
   "source": [
    "import numpy as np\n",
    "\n",
    "from pyFM.mesh import TriMesh\n",
    "from pyFM.functional import FunctionalMapping\n",
    "\n",
    "import meshplot as mp\n",
    "\n",
    "import os\n",
    "\n",
    "import glob\n",
    "\n",
    "def plot_mesh(myMesh,cmap=None):\n",
    "    mp.plot(myMesh.vertlist, myMesh.facelist,c=cmap)\n",
    "    \n",
    "def double_plot(myMesh1,myMesh2,cmap1=None,cmap2=None):\n",
    "    d = mp.subplot(myMesh1.vertlist, myMesh1.facelist, c=cmap1, s=[2, 2, 0])\n",
    "    mp.subplot(myMesh2.vertlist, myMesh2.facelist, c=cmap2, s=[2, 2, 1], data=d)\n",
    "\n",
    "def visu(vertices):\n",
    "    min_coord,max_coord = np.min(vertices,axis=0,keepdims=True),np.max(vertices,axis=0,keepdims=True)\n",
    "    cmap = (vertices-min_coord)/(max_coord-min_coord)\n",
    "    return cmap\n",
    "\n",
    "def export_results(p2p, name):\n",
    "    # open file in write mode\n",
    "    with open(r'data_out/'+ name + '.txt', 'w') as f_export_init:\n",
    "        for item in p2p:\n",
    "            # write each item on a new line\n",
    "            f_export_init.write(\"%s\\n\" % item)\n",
    "        print('Exported' + name + 'point to point mapping \\n')\n",
    "\n"
   ]
  },
  {
   "cell_type": "markdown",
   "metadata": {},
   "source": [
    "# 1 - Data loading"
   ]
  },
  {
   "cell_type": "code",
   "execution_count": null,
   "metadata": {},
   "outputs": [],
   "source": [
    "# Input folder name\n",
    "inputFolder = 'COLLECTION_001'\n",
    "# Concatenate folder name with the path\n",
    "inputPath = '../data/' + inputFolder + '/'\n",
    "filesList = []\n",
    "\n",
    "# Iterate directory\n",
    "for file in os.listdir(inputPath):\n",
    "    # check only text files\n",
    "    if file.endswith('.off'):\n",
    "        filesList.append(file)\n",
    "\n",
    "loadLandmark = True # If set to True, load the landmark data from the input folder for each mesh"
   ]
  },
  {
   "cell_type": "markdown",
   "metadata": {},
   "source": [
    "# 2 - Computing the functional maps"
   ]
  },
  {
   "cell_type": "markdown",
   "metadata": {},
   "source": [
    "**Add correspondences**"
   ]
  },
  {
   "cell_type": "code",
   "execution_count": null,
   "metadata": {},
   "outputs": [],
   "source": [
    "for sourceFile in filesList:\n",
    "    sourceFileShort = os.path.splitext(sourceFile)[0]\n",
    "    print(f'====='+ sourceFileShort + '=====\\n')\n",
    "    for targetFile in filesList:\n",
    "        targetFileShort = os.path.splitext(targetFile)[0]\n",
    "        if sourceFile == targetFile:\n",
    "            continue\n",
    "\n",
    "        print(f'--------------------------\\n' +\n",
    "        'Processing p2p mapping: from ' + sourceFile + ' to ' + targetFile + \n",
    "        '\\n--------------------------\\n')\n",
    "\n",
    "        mesh1 = TriMesh(inputPath + targetFile, area_normalize=True, center=True)\n",
    "        mesh2 = TriMesh(inputPath + sourceFile, area_normalize=True, center=True)\n",
    "\n",
    "        if loadLandmark:\n",
    "            landmarks_mesh1 = np.loadtxt(inputPath + targetFileShort + '_landmarks.txt',dtype=int)[:10]  # loading N landmarks\n",
    "            landmarks_mesh2 = np.loadtxt(inputPath + sourceFileShort + '_landmarks.txt',dtype=int)[:10]  # loading N landmarks\n",
    "            landmarks = np.column_stack([landmarks_mesh1, landmarks_mesh2])\n",
    "            #landmarks[:,0] = landmarks_mesh1\n",
    "            #landmarks[:,1] = landmarks_mesh2\n",
    "            print(f'landmarks: ' + str(landmarks) + '\\n')\n",
    "\n",
    "        \n",
    "        else:\n",
    "                landmarks_mesh1 = []\n",
    "                landmarks_mesh2 = []\n",
    "\n",
    "\n",
    "        # ----- Compute descriptors\n",
    "        process_params = {\n",
    "            'n_ev': (25,25),  # Number of eigenvalues on source and Target\n",
    "            'landmarks': landmarks,  # loading 5 landmarks\n",
    "            'subsample_step': 5,  # In order not to use too many descriptors\n",
    "            'descr_type': 'HKS',  # WKS or HKS\n",
    "        }\n",
    "\n",
    "\n",
    "        model = FunctionalMapping(mesh1,mesh2)\n",
    "        model.preprocess(**process_params,verbose=True);\n",
    "\n",
    "        # ----- Fit the model\n",
    "        fit_params = {\n",
    "            'w_descr': 1e0, #scaling for the descriptor preservation term\n",
    "            'w_lap': 1e-2, #scaling of the laplacian commutativity term\n",
    "            'w_dcomm': 1e-1, #scaling of the multiplicative operator commutativity\n",
    "            'w_orient': 0, #scaling of the orientation preservation term\n",
    "            #'orient_reversing':True, #Whether to use the orientation reversing term instead of the orientation preservation one\n",
    "            #'optinit':'zeros' #Initialization\n",
    "        }\n",
    "\n",
    "        model.fit(**fit_params, verbose=True)\n",
    "\n",
    "        # ----- p2p map visualization\n",
    "        p2p_21 = model.get_p2p(n_jobs=1)\n",
    "        #cmap1 = visu(mesh1.vertlist); cmap2 = cmap1[p2p_21]\n",
    "        #double_plot(mesh1,mesh2,cmap1,cmap2)\n",
    "\n",
    "        # ----- ICP refinement\n",
    "        #model.icp_refine(verbose=True)\n",
    "        #p2p_21_icp = model.get_p2p()\n",
    "        #cmap1 = visu(mesh1.vertlist); cmap2 = cmap1[p2p_21_icp]\n",
    "        #double_plot(mesh1,mesh2,cmap1,cmap2)\n",
    "\n",
    "        # ----- ZoomOut refinement\n",
    "        model.change_FM_type('classic') # We refine the first computed map ('classic') or the icp-refined one ('icp')\n",
    "        model.zoomout_refine(nit=5, step = 1, verbose=True)\n",
    "        print(model.FM.shape)\n",
    "        p2p_21_zo = model.get_p2p()\n",
    "        cmap1 = visu(mesh1.vertlist); cmap2 = cmap1[p2p_21_zo]\n",
    "        double_plot(mesh1,mesh2,cmap1,cmap2)\n",
    "\n",
    "        # ----- Export results\n",
    "        # check if data_out folder exists, if not create it\n",
    "        if not os.path.exists('data_out'):\n",
    "            os.makedirs('data_out')\n",
    "\n",
    "        # export point to point mappings if they exist\n",
    "\n",
    "        # initial point to point mapping\n",
    "        if 'p2p_21' in locals():\n",
    "            export_results(p2p_21, 'map_'+ sourceFileShort + '_' + targetFileShort)\n",
    "\n",
    "        # icp refined point to point mapping\n",
    "        if 'p2p_21_icp' in locals():\n",
    "            export_results(p2p_21_icp, 'map_'+ sourceFileShort + '_' + targetFileShort + '_icp')\n",
    "\n",
    "        # zoomout refined point to point mapping\n",
    "        if 'p2p_21_zo' in locals():\n",
    "            export_results(p2p_21_zo, 'map_'+ sourceFileShort + '_' + targetFileShort + '_zo')\n"
   ]
  }
 ],
 "metadata": {
  "kernelspec": {
   "display_name": "Python 3.9.7 ('base')",
   "language": "python",
   "name": "python3"
  },
  "language_info": {
   "codemirror_mode": {
    "name": "ipython",
    "version": 3
   },
   "file_extension": ".py",
   "mimetype": "text/x-python",
   "name": "python",
   "nbconvert_exporter": "python",
   "pygments_lexer": "ipython3",
   "version": "3.9.7"
  },
  "vscode": {
   "interpreter": {
    "hash": "3d4fdb5c5338a8fa7b742ce98cb975129d6aa57d42a9958c3fdc924baafbc05e"
   }
  }
 },
 "nbformat": 4,
 "nbformat_minor": 4
}
