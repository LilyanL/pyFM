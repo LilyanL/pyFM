{
 "cells": [
  {
   "cell_type": "markdown",
   "metadata": {},
   "source": [
    "\n",
    "# 0 - Imports and defining functions"
   ]
  },
  {
   "cell_type": "code",
   "execution_count": 43,
   "metadata": {},
   "outputs": [],
   "source": [
    "import numpy as np\n",
    "\n",
    "from pyFM.mesh import TriMesh\n",
    "from pyFM.functional import FunctionalMapping\n",
    "\n",
    "import meshplot as mp\n",
    "\n",
    "import os\n",
    "\n",
    "def plot_mesh(myMesh,cmap=None):\n",
    "    mp.plot(myMesh.vertlist, myMesh.facelist,c=cmap)\n",
    "    \n",
    "def double_plot(myMesh1,myMesh2,cmap1=None,cmap2=None):\n",
    "    d = mp.subplot(myMesh1.vertlist, myMesh1.facelist, c=cmap1, s=[2, 2, 0])\n",
    "    mp.subplot(myMesh2.vertlist, myMesh2.facelist, c=cmap2, s=[2, 2, 1], data=d)\n",
    "\n",
    "def visu(vertices):\n",
    "    min_coord,max_coord = np.min(vertices,axis=0,keepdims=True),np.max(vertices,axis=0,keepdims=True)\n",
    "    cmap = (vertices-min_coord)/(max_coord-min_coord)\n",
    "    return cmap"
   ]
  },
  {
   "cell_type": "markdown",
   "metadata": {},
   "source": [
    "# 1 - Data loading"
   ]
  },
  {
   "cell_type": "code",
   "execution_count": 44,
   "metadata": {},
   "outputs": [],
   "source": [
    "# Input folder name\n",
    "inputFolder = 'PAIR_002'\n",
    "# Concatenate folder name with the path\n",
    "inputPath = '../data/' + inputFolder + '/'\n",
    "mesh1 = TriMesh(inputPath + 'target.off', area_normalize=True, center=False)\n",
    "mesh2 = TriMesh(inputPath + 'source.off', area_normalize=True, center=False)"
   ]
  },
  {
   "cell_type": "markdown",
   "metadata": {},
   "source": [
    "# 2- Visualization of eigen functions"
   ]
  },
  {
   "cell_type": "code",
   "execution_count": 45,
   "metadata": {},
   "outputs": [
    {
     "name": "stdout",
     "output_type": "stream",
     "text": [
      "Computing 100 eigenvectors\n",
      "\tDone in 5.10 s\n"
     ]
    },
    {
     "data": {
      "application/vnd.jupyter.widget-view+json": {
       "model_id": "63d429c83b0a4f9c9e30b69046f9b29c",
       "version_major": 2,
       "version_minor": 0
      },
      "text/plain": [
       "HBox(children=(Output(), Output(), Output(), Output(), Output(), Output(), Output(), Output(), Output(), Outpu…"
      ]
     },
     "metadata": {},
     "output_type": "display_data"
    },
    {
     "data": {
      "application/vnd.jupyter.widget-view+json": {
       "model_id": "fd11d279eb5d410694b99905472986c9",
       "version_major": 2,
       "version_minor": 0
      },
      "text/plain": [
       "HBox(children=(Output(), Output(), Output(), Output(), Output(), Output(), Output(), Output(), Output(), Outpu…"
      ]
     },
     "metadata": {},
     "output_type": "display_data"
    },
    {
     "data": {
      "application/vnd.jupyter.widget-view+json": {
       "model_id": "0756fb95bc104261984391fabee9d2c4",
       "version_major": 2,
       "version_minor": 0
      },
      "text/plain": [
       "HBox(children=(Output(), Output(), Output(), Output(), Output(), Output(), Output(), Output(), Output(), Outpu…"
      ]
     },
     "metadata": {},
     "output_type": "display_data"
    },
    {
     "data": {
      "application/vnd.jupyter.widget-view+json": {
       "model_id": "7662d61c442544f6be6710c0954d5606",
       "version_major": 2,
       "version_minor": 0
      },
      "text/plain": [
       "HBox(children=(Output(), Output(), Output(), Output(), Output(), Output(), Output(), Output(), Output(), Outpu…"
      ]
     },
     "metadata": {},
     "output_type": "display_data"
    },
    {
     "data": {
      "application/vnd.jupyter.widget-view+json": {
       "model_id": "e8e34e292c264665acd987af24b6b12f",
       "version_major": 2,
       "version_minor": 0
      },
      "text/plain": [
       "HBox(children=(Output(), Output(), Output(), Output(), Output(), Output(), Output(), Output(), Output(), Outpu…"
      ]
     },
     "metadata": {},
     "output_type": "display_data"
    }
   ],
   "source": [
    "# By default does not use the intrinsic delaunay Laplacian\n",
    "mesh1.process(k=100, intrinsic=False, verbose=True);\n",
    "\n",
    "# set up a figure twice as wide as it is tall\n",
    "i = 0\n",
    "d = mp.subplot(mesh1.vertlist, mesh1.facelist, c=mesh1.eigenvectors[:,i], s=[1, 10, 0])\n",
    "for i in range(1,10):\n",
    "    d = mp.subplot(mesh1.vertlist, mesh1.facelist, c=mesh1.eigenvectors[:,i], s=[1, 10, i], data=d)\n",
    "\n",
    "#d.save(\"myplottest\")"
   ]
  },
  {
   "cell_type": "markdown",
   "metadata": {},
   "source": [
    "# 3 - Computing the functional map"
   ]
  },
  {
   "cell_type": "markdown",
   "metadata": {},
   "source": [
    "**Displaying data**"
   ]
  },
  {
   "cell_type": "code",
   "execution_count": 46,
   "metadata": {},
   "outputs": [
    {
     "name": "stdout",
     "output_type": "stream",
     "text": [
      "Mesh 1 : 32306 vertices, 64740 faces\n",
      "Mesh 2 : 32065 vertices, 64170 faces\n"
     ]
    },
    {
     "data": {
      "application/vnd.jupyter.widget-view+json": {
       "model_id": "9623ee5e377a475792bebb21de48ad97",
       "version_major": 2,
       "version_minor": 0
      },
      "text/plain": [
       "HBox(children=(Output(), Output()))"
      ]
     },
     "metadata": {},
     "output_type": "display_data"
    },
    {
     "data": {
      "application/vnd.jupyter.widget-view+json": {
       "model_id": "478488d82d7947c6aab14f498dbca616",
       "version_major": 2,
       "version_minor": 0
      },
      "text/plain": [
       "HBox(children=(Output(), Output()))"
      ]
     },
     "metadata": {},
     "output_type": "display_data"
    }
   ],
   "source": [
    "print(f'Mesh 1 : {mesh1.n_vertices:4d} vertices, {mesh1.n_faces:5d} faces\\n'\n",
    "      f'Mesh 2 : {mesh2.n_vertices:4d} vertices, {mesh2.n_faces:5d} faces')\n",
    "\n",
    "d = mp.subplot(mesh1.vertlist, mesh1.facelist, None, s=[2, 2, 0])\n",
    "mp.subplot(mesh2.vertlist, mesh2.facelist, None, s=[2, 2, 1], data=d)"
   ]
  },
  {
   "cell_type": "markdown",
   "metadata": {},
   "source": [
    "**Add correspondences**"
   ]
  },
  {
   "cell_type": "code",
   "execution_count": 47,
   "metadata": {},
   "outputs": [
    {
     "data": {
      "text/plain": [
       "array([[27358, 27505],\n",
       "       [31694, 28360],\n",
       "       [12643,  9898],\n",
       "       [25320, 27680],\n",
       "       [22629, 18965],\n",
       "       [14273, 19124]])"
      ]
     },
     "metadata": {},
     "output_type": "display_data"
    },
    {
     "name": "stdout",
     "output_type": "stream",
     "text": [
      "Retrieved matching faces from CT & RGBD pointclouds\n"
     ]
    },
    {
     "data": {
      "application/vnd.jupyter.widget-view+json": {
       "model_id": "e4400f17406548afa33ebd22edfc3a38",
       "version_major": 2,
       "version_minor": 0
      },
      "text/plain": [
       "Renderer(camera=PerspectiveCamera(children=(DirectionalLight(color='white', intensity=0.6, position=(-0.096350…"
      ]
     },
     "metadata": {},
     "output_type": "display_data"
    },
    {
     "data": {
      "application/vnd.jupyter.widget-view+json": {
       "model_id": "0f662c87d3bf4c538821b176a27646d8",
       "version_major": 2,
       "version_minor": 0
      },
      "text/plain": [
       "Renderer(camera=PerspectiveCamera(children=(DirectionalLight(color='white', intensity=0.6, position=(-0.114139…"
      ]
     },
     "metadata": {},
     "output_type": "display_data"
    }
   ],
   "source": [
    "loadLandmark = True\n",
    "if loadLandmark:\n",
    "    landmarks = np.loadtxt(inputPath +'landmarks.txt',dtype=int)[:10]  # loading N landmarks\n",
    "    display(landmarks)\n",
    "\n",
    "    landmarks_mesh1 = TriMesh(mesh1.vertlist[landmarks[:,0]])\n",
    "    landmarks_mesh2 = TriMesh(mesh2.vertlist[landmarks[:,1]])\n",
    "\n",
    "    print('Retrieved matching faces from CT & RGBD pointclouds')\n",
    "    \n",
    "else:\n",
    "     landmarks = []\n",
    "\n",
    "#d = mp.subplot(mesh1.vertlist, mesh1.facelist, None, s=[2, 2, 0])\n",
    "\n",
    "p1 = mp.plot(mesh1.vertlist, mesh1.facelist, None)\n",
    "p2 = mp.plot(mesh2.vertlist, mesh2.facelist, None)\n",
    "\n",
    "if loadLandmark:\n",
    "    color = c=np.random.rand(*landmarks_mesh1.vertlist.shape)\n",
    "    p1.add_points(landmarks_mesh1.vertlist, c = color, shading={\"point_size\": 0.3})\n",
    "    p2.add_points(landmarks_mesh2.vertlist, c = color, shading={\"point_size\": 0.3})\n"
   ]
  },
  {
   "cell_type": "markdown",
   "metadata": {},
   "source": [
    "**Generate functional map directly from landmarks**"
   ]
  },
  {
   "cell_type": "code",
   "execution_count": 66,
   "metadata": {},
   "outputs": [
    {
     "name": "stdout",
     "output_type": "stream",
     "text": [
      "Computing 50 eigenvectors\n",
      "\tDone in 2.00 s\n",
      "p2p map  : [0 1 2 3 4 5] \n",
      "\n",
      "eigen vectors 1 : [[-1.          1.48968982  0.89492381 -1.15140567  2.80914176  0.99376185]\n",
      " [-1.          0.61961321 -0.34264158 -0.45098227  0.73704563 -2.48844354]\n",
      " [-1.          0.12337274 -1.55119641  2.20696165  0.63055728  1.83645826]\n",
      " [-1.         -0.50365086 -0.32307601  0.08005977 -0.50859054 -1.82777239]\n",
      " [-1.         -1.89376252  1.36951647  0.31245958  0.45575513  0.07065674]\n",
      " [-1.          0.03774584 -0.29230713 -1.37260114 -1.22989819  1.17721129]] \n",
      "\n",
      "eigen vectors 2 : [[-1.         -1.8358493  -1.80731605  0.64012196  0.09971144 -0.97749885]\n",
      " [-1.         -0.60471167  0.2211168  -0.25272809 -1.49404041 -2.31632836]\n",
      " [-1.         -0.07910433  1.61538981  2.39411024 -0.18793126  0.14141135]\n",
      " [-1.          0.53406234  0.41705964 -0.33048053  2.41587613  1.53251022]\n",
      " [-1.          2.03070688 -1.42377698  0.46799172  1.753805   -2.45098212]\n",
      " [-1.         -0.04670937  0.30640095 -1.55473369 -0.35136768  0.29657465]] \n",
      "\n",
      "dim : 6 \n",
      "\n"
     ]
    },
    {
     "ename": "AttributeError",
     "evalue": "'numpy.ndarray' object has no attribute 'FM'",
     "output_type": "error",
     "traceback": [
      "\u001b[1;31m---------------------------------------------------------------------------\u001b[0m",
      "\u001b[1;31mAttributeError\u001b[0m                            Traceback (most recent call last)",
      "\u001b[1;32m~\\AppData\\Local\\Temp/ipykernel_81484/2825153061.py\u001b[0m in \u001b[0;36m<module>\u001b[1;34m\u001b[0m\n\u001b[0;32m     18\u001b[0m \u001b[1;31m#test = pyFM.spectral.convert.mesh_p2p_to_FM(p2p_21, mesh1, mesh2, dim, [landmarks[:,0], landmarks[:,1]])\u001b[0m\u001b[1;33m\u001b[0m\u001b[1;33m\u001b[0m\u001b[0m\n\u001b[0;32m     19\u001b[0m \u001b[0mtest\u001b[0m \u001b[1;33m=\u001b[0m \u001b[0mpyFM\u001b[0m\u001b[1;33m.\u001b[0m\u001b[0mspectral\u001b[0m\u001b[1;33m.\u001b[0m\u001b[0mconvert\u001b[0m\u001b[1;33m.\u001b[0m\u001b[0mp2p_to_FM\u001b[0m\u001b[1;33m(\u001b[0m\u001b[0mp2p_21\u001b[0m\u001b[1;33m,\u001b[0m \u001b[0mresultingFM\u001b[0m\u001b[1;33m.\u001b[0m\u001b[0mmesh1\u001b[0m\u001b[1;33m.\u001b[0m\u001b[0meigenvectors\u001b[0m\u001b[1;33m[\u001b[0m\u001b[0mlandmarks\u001b[0m\u001b[1;33m[\u001b[0m\u001b[1;33m:\u001b[0m\u001b[1;33m,\u001b[0m\u001b[1;36m0\u001b[0m\u001b[1;33m]\u001b[0m\u001b[1;33m,\u001b[0m \u001b[1;33m:\u001b[0m\u001b[0mdim\u001b[0m\u001b[1;33m]\u001b[0m\u001b[1;33m,\u001b[0m \u001b[0mresultingFM\u001b[0m\u001b[1;33m.\u001b[0m\u001b[0mmesh2\u001b[0m\u001b[1;33m.\u001b[0m\u001b[0meigenvectors\u001b[0m\u001b[1;33m[\u001b[0m\u001b[0mlandmarks\u001b[0m\u001b[1;33m[\u001b[0m\u001b[1;33m:\u001b[0m\u001b[1;33m,\u001b[0m\u001b[1;36m1\u001b[0m\u001b[1;33m]\u001b[0m\u001b[1;33m,\u001b[0m \u001b[1;33m:\u001b[0m\u001b[1;33m]\u001b[0m\u001b[1;33m)\u001b[0m\u001b[1;33m\u001b[0m\u001b[1;33m\u001b[0m\u001b[0m\n\u001b[1;32m---> 20\u001b[1;33m \u001b[0mprint\u001b[0m\u001b[1;33m(\u001b[0m\u001b[1;34mf'FM : {test.FM} \\n'\u001b[0m\u001b[1;33m)\u001b[0m\u001b[1;33m\u001b[0m\u001b[1;33m\u001b[0m\u001b[0m\n\u001b[0m\u001b[0;32m     21\u001b[0m \u001b[1;33m\u001b[0m\u001b[0m\n\u001b[0;32m     22\u001b[0m \u001b[1;31m# Resuling FM\u001b[0m\u001b[1;33m\u001b[0m\u001b[1;33m\u001b[0m\u001b[0m\n",
      "\u001b[1;31mAttributeError\u001b[0m: 'numpy.ndarray' object has no attribute 'FM'"
     ]
    }
   ],
   "source": [
    "# Initialize vector 1 to 5\n",
    "p2p_21 = np.array([0,1,2,3,4,5])\n",
    "#p2p_21 = landmarks[:,1]\n",
    "dim = len(landmarks[:,0])\n",
    "\n",
    "resultingFM = FunctionalMapping(mesh1=mesh1, mesh2=mesh2)\n",
    "resultingFM.mesh1.process(k=50, intrinsic=False, verbose=True);\n",
    "resultingFM.mesh2.process(k=50, intrinsic=False, verbose=True);\n",
    "\n",
    "\n",
    "print(f'p2p map  : {p2p_21} \\n')\n",
    "print(f'eigen vectors 1 : {resultingFM.mesh1.eigenvectors[landmarks[:,0], :dim]} \\n')\n",
    "print(f'eigen vectors 2 : {resultingFM.mesh2.eigenvectors[landmarks[:,1], :dim]} \\n')\n",
    "print(f'dim : {dim} \\n') \n",
    "\n",
    "#test = pyFM.spectral.convert.p2p_to_FM(p2p_21, mesh1, mesh2, use_adj=False, subsample=None, use_ANN=False, n_jobs=1)\n",
    "import pyFM.spectral.convert\n",
    "#test = pyFM.spectral.convert.mesh_p2p_to_FM(p2p_21, mesh1, mesh2, dim, [landmarks[:,0], landmarks[:,1]])\n",
    "test = pyFM.spectral.convert.p2p_to_FM(p2p_21, resultingFM.mesh1.eigenvectors[landmarks[:,0], :dim], resultingFM.mesh2.eigenvectors[landmarks[:,1], :])\n",
    "print(f'FM : {test} \\n')\n",
    "\n",
    "# Resuling FM\n",
    "resultingFM.FM = test\n",
    "p2p_21 = resultingFM.get_p2p(n_jobs=1)\n",
    "cmap1 = visu(mesh1.vertlist); cmap2 = cmap1[p2p_21]\n",
    "double_plot(mesh1,mesh2,cmap1,cmap2)\n",
    "\n"
   ]
  },
  {
   "cell_type": "code",
   "execution_count": null,
   "metadata": {},
   "outputs": [],
   "source": [
    "p2p_21 = resultingFM.get_p2p(n_jobs=1)\n",
    "cmap1 = visu(mesh1.vertlist); cmap2 = cmap1[p2p_21]\n",
    "double_plot(mesh1,mesh2,cmap1,cmap2)\n",
    "\n",
    "#resultingFM.mesh1.process(k=12, intrinsic=False, verbose=True);\n",
    "#resultingFM.mesh2.process(k=12, intrinsic=False, verbose=True);\n",
    "\n",
    "p2p_21 = resultingFM.get_p2p(n_jobs=1)\n",
    "cmap1 = visu(mesh1.vertlist); cmap2 = cmap1[p2p_21]\n",
    "double_plot(mesh1,mesh2,cmap1,cmap2)\n",
    "\n",
    "#resultingFM.mesh1.process(k=9, intrinsic=False, verbose=True);\n",
    "#resultingFM.mesh2.process(k=9, intrinsic=False, verbose=True);\n",
    "\n",
    "p2p_21 = resultingFM.get_p2p(n_jobs=1)\n",
    "cmap1 = visu(mesh1.vertlist); cmap2 = cmap1[p2p_21]\n",
    "double_plot(mesh1,mesh2,cmap1,cmap2)"
   ]
  },
  {
   "cell_type": "code",
   "execution_count": 65,
   "metadata": {},
   "outputs": [
    {
     "data": {
      "application/vnd.jupyter.widget-view+json": {
       "model_id": "22bab3d2575d4424b6dc7bf508f65821",
       "version_major": 2,
       "version_minor": 0
      },
      "text/plain": [
       "HBox(children=(Output(), Output()))"
      ]
     },
     "metadata": {},
     "output_type": "display_data"
    },
    {
     "data": {
      "application/vnd.jupyter.widget-view+json": {
       "model_id": "d9db20cd59544a42860d1216ecf2fc04",
       "version_major": 2,
       "version_minor": 0
      },
      "text/plain": [
       "HBox(children=(Output(), Output()))"
      ]
     },
     "metadata": {},
     "output_type": "display_data"
    },
    {
     "ename": "AssertionError",
     "evalue": "Not enough eigenvectors on target :         75 are needed when 50 are provided",
     "output_type": "error",
     "traceback": [
      "\u001b[1;31m---------------------------------------------------------------------------\u001b[0m",
      "\u001b[1;31mAssertionError\u001b[0m                            Traceback (most recent call last)",
      "\u001b[1;32m~\\AppData\\Local\\Temp/ipykernel_81484/622144310.py\u001b[0m in \u001b[0;36m<module>\u001b[1;34m\u001b[0m\n\u001b[0;32m     11\u001b[0m \u001b[0mresultingFM\u001b[0m\u001b[1;33m.\u001b[0m\u001b[0m_FM_base\u001b[0m \u001b[1;33m=\u001b[0m \u001b[0mtest\u001b[0m\u001b[1;33m\u001b[0m\u001b[1;33m\u001b[0m\u001b[0m\n\u001b[0;32m     12\u001b[0m \u001b[1;33m\u001b[0m\u001b[0m\n\u001b[1;32m---> 13\u001b[1;33m \u001b[0mresultingFM\u001b[0m\u001b[1;33m.\u001b[0m\u001b[0mzoomout_refine\u001b[0m\u001b[1;33m(\u001b[0m\u001b[0mnit\u001b[0m\u001b[1;33m=\u001b[0m\u001b[1;36m5\u001b[0m\u001b[1;33m,\u001b[0m \u001b[0mstep\u001b[0m \u001b[1;33m=\u001b[0m \u001b[1;36m5\u001b[0m\u001b[1;33m,\u001b[0m \u001b[0mverbose\u001b[0m\u001b[1;33m=\u001b[0m\u001b[1;32mTrue\u001b[0m\u001b[1;33m)\u001b[0m\u001b[1;33m\u001b[0m\u001b[1;33m\u001b[0m\u001b[0m\n\u001b[0m\u001b[0;32m     14\u001b[0m \u001b[0mprint\u001b[0m\u001b[1;33m(\u001b[0m\u001b[0mresultingFM\u001b[0m\u001b[1;33m.\u001b[0m\u001b[0mFM\u001b[0m\u001b[1;33m.\u001b[0m\u001b[0mshape\u001b[0m\u001b[1;33m)\u001b[0m\u001b[1;33m\u001b[0m\u001b[1;33m\u001b[0m\u001b[0m\n\u001b[0;32m     15\u001b[0m \u001b[1;33m\u001b[0m\u001b[0m\n",
      "\u001b[1;32mc:\\Users\\FAROS\\Documents\\Thèse\\4 - Code\\Functional_map\\pyFM\\pyFM\\functional.py\u001b[0m in \u001b[0;36mzoomout_refine\u001b[1;34m(self, nit, step, subsample, use_ANN, overwrite, verbose)\u001b[0m\n\u001b[0;32m    411\u001b[0m             \u001b[0msub\u001b[0m \u001b[1;33m=\u001b[0m \u001b[1;33m(\u001b[0m\u001b[0msub1\u001b[0m\u001b[1;33m,\u001b[0m\u001b[0msub2\u001b[0m\u001b[1;33m)\u001b[0m\u001b[1;33m\u001b[0m\u001b[1;33m\u001b[0m\u001b[0m\n\u001b[0;32m    412\u001b[0m \u001b[1;33m\u001b[0m\u001b[0m\n\u001b[1;32m--> 413\u001b[1;33m         self._FM_zo = pyFM.refine.mesh_zoomout_refine(self.FM, self.mesh1, self.mesh2, nit,\n\u001b[0m\u001b[0;32m    414\u001b[0m                                                       step=step, subsample=sub, use_ANN=use_ANN, verbose=verbose)\n\u001b[0;32m    415\u001b[0m         \u001b[1;32mif\u001b[0m \u001b[0moverwrite\u001b[0m\u001b[1;33m:\u001b[0m\u001b[1;33m\u001b[0m\u001b[1;33m\u001b[0m\u001b[0m\n",
      "\u001b[1;32mc:\\Users\\FAROS\\Documents\\Thèse\\4 - Code\\Functional_map\\pyFM\\pyFM\\refine\\zoomout.py\u001b[0m in \u001b[0;36mmesh_zoomout_refine\u001b[1;34m(FM_12, mesh1, mesh2, nit, step, subsample, use_ANN, return_p2p, n_jobs, verbose)\u001b[0m\n\u001b[0;32m    140\u001b[0m         \u001b[0msubsample\u001b[0m \u001b[1;33m=\u001b[0m \u001b[1;33m(\u001b[0m\u001b[0msub1\u001b[0m\u001b[1;33m,\u001b[0m \u001b[0msub2\u001b[0m\u001b[1;33m)\u001b[0m\u001b[1;33m\u001b[0m\u001b[1;33m\u001b[0m\u001b[0m\n\u001b[0;32m    141\u001b[0m \u001b[1;33m\u001b[0m\u001b[0m\n\u001b[1;32m--> 142\u001b[1;33m     result = zoomout_refine(FM_12, mesh1.eigenvectors, mesh2.eigenvectors, nit,\n\u001b[0m\u001b[0;32m    143\u001b[0m                             \u001b[0mstep\u001b[0m\u001b[1;33m=\u001b[0m\u001b[0mstep\u001b[0m\u001b[1;33m,\u001b[0m \u001b[0mA2\u001b[0m\u001b[1;33m=\u001b[0m\u001b[0mmesh2\u001b[0m\u001b[1;33m.\u001b[0m\u001b[0mA\u001b[0m\u001b[1;33m,\u001b[0m \u001b[0msubsample\u001b[0m\u001b[1;33m=\u001b[0m\u001b[0msubsample\u001b[0m\u001b[1;33m,\u001b[0m\u001b[1;33m\u001b[0m\u001b[1;33m\u001b[0m\u001b[0m\n\u001b[0;32m    144\u001b[0m                             \u001b[0muse_ANN\u001b[0m\u001b[1;33m=\u001b[0m\u001b[0muse_ANN\u001b[0m\u001b[1;33m,\u001b[0m \u001b[0mreturn_p2p\u001b[0m\u001b[1;33m=\u001b[0m\u001b[0mreturn_p2p\u001b[0m\u001b[1;33m,\u001b[0m\u001b[1;33m\u001b[0m\u001b[1;33m\u001b[0m\u001b[0m\n",
      "\u001b[1;32mc:\\Users\\FAROS\\Documents\\Thèse\\4 - Code\\Functional_map\\pyFM\\pyFM\\refine\\zoomout.py\u001b[0m in \u001b[0;36mzoomout_refine\u001b[1;34m(FM_12, evects1, evects2, nit, step, A2, subsample, use_ANN, return_p2p, n_jobs, verbose)\u001b[0m\n\u001b[0;32m     76\u001b[0m         \u001b[0mf\u001b[0m\u001b[0;31m\"\u001b[0m\u001b[0mNot\u001b[0m \u001b[0menough\u001b[0m \u001b[0meigenvectors\u001b[0m \u001b[0mon\u001b[0m \u001b[0msource\u001b[0m \u001b[1;33m:\u001b[0m\u001b[0;31m \u001b[0m\u001b[0;31m\\\u001b[0m\u001b[1;33m\u001b[0m\u001b[1;33m\u001b[0m\u001b[0m\n\u001b[0;32m     77\u001b[0m         \u001b[1;33m{\u001b[0m\u001b[0mk1_0\u001b[0m \u001b[1;33m+\u001b[0m \u001b[0mnit\u001b[0m\u001b[1;33m*\u001b[0m\u001b[0mstep1\u001b[0m\u001b[1;33m}\u001b[0m \u001b[0mare\u001b[0m \u001b[0mneeded\u001b[0m \u001b[0mwhen\u001b[0m \u001b[1;33m{\u001b[0m\u001b[0mevects1\u001b[0m\u001b[1;33m.\u001b[0m\u001b[0mshape\u001b[0m\u001b[1;33m[\u001b[0m\u001b[1;36m1\u001b[0m\u001b[1;33m]\u001b[0m\u001b[1;33m}\u001b[0m \u001b[0mare\u001b[0m \u001b[0mprovided\u001b[0m\u001b[0;31m\"\u001b[0m\u001b[1;33m\u001b[0m\u001b[1;33m\u001b[0m\u001b[0m\n\u001b[1;32m---> 78\u001b[1;33m     \u001b[1;32massert\u001b[0m \u001b[0mk2_0\u001b[0m \u001b[1;33m+\u001b[0m \u001b[0mnit\u001b[0m\u001b[1;33m*\u001b[0m\u001b[0mstep2\u001b[0m \u001b[1;33m<=\u001b[0m \u001b[0mevects2\u001b[0m\u001b[1;33m.\u001b[0m\u001b[0mshape\u001b[0m\u001b[1;33m[\u001b[0m\u001b[1;36m1\u001b[0m\u001b[1;33m]\u001b[0m\u001b[1;33m,\u001b[0m\u001b[0;31m \u001b[0m\u001b[0;31m\\\u001b[0m\u001b[1;33m\u001b[0m\u001b[1;33m\u001b[0m\u001b[0m\n\u001b[0m\u001b[0;32m     79\u001b[0m         \u001b[0mf\u001b[0m\u001b[0;31m\"\u001b[0m\u001b[0mNot\u001b[0m \u001b[0menough\u001b[0m \u001b[0meigenvectors\u001b[0m \u001b[0mon\u001b[0m \u001b[0mtarget\u001b[0m \u001b[1;33m:\u001b[0m\u001b[0;31m \u001b[0m\u001b[0;31m\\\u001b[0m\u001b[1;33m\u001b[0m\u001b[1;33m\u001b[0m\u001b[0m\n\u001b[0;32m     80\u001b[0m         \u001b[1;33m{\u001b[0m\u001b[0mk2_0\u001b[0m \u001b[1;33m+\u001b[0m \u001b[0mnit\u001b[0m\u001b[1;33m*\u001b[0m\u001b[0mstep2\u001b[0m\u001b[1;33m}\u001b[0m \u001b[0mare\u001b[0m \u001b[0mneeded\u001b[0m \u001b[0mwhen\u001b[0m \u001b[1;33m{\u001b[0m\u001b[0mevects2\u001b[0m\u001b[1;33m.\u001b[0m\u001b[0mshape\u001b[0m\u001b[1;33m[\u001b[0m\u001b[1;36m1\u001b[0m\u001b[1;33m]\u001b[0m\u001b[1;33m}\u001b[0m \u001b[0mare\u001b[0m \u001b[0mprovided\u001b[0m\u001b[0;31m\"\u001b[0m\u001b[1;33m\u001b[0m\u001b[1;33m\u001b[0m\u001b[0m\n",
      "\u001b[1;31mAssertionError\u001b[0m: Not enough eigenvectors on target :         75 are needed when 50 are provided"
     ]
    }
   ],
   "source": [
    "p2p_21 = resultingFM.get_p2p(n_jobs=1)\n",
    "cmap1 = visu(mesh1.vertlist); cmap2 = cmap1[p2p_21]\n",
    "double_plot(mesh1,mesh2,cmap1,cmap2)\n",
    "\n",
    "#resultingFM.mesh1.process(k=9, intrinsic=False, verbose=True);\n",
    "#resultingFM.mesh2.process(k=9, intrinsic=False, verbose=True);\n",
    "\n",
    "\n",
    "\n",
    "resultingFM.change_FM_type('classic') # We refine the first computed map ('classic') or the icp-refined one ('icp')\n",
    "resultingFM._FM_base = test\n",
    "\n",
    "resultingFM.zoomout_refine(nit=5, step = 5, verbose=True)\n",
    "print(resultingFM.FM.shape)\n",
    "\n",
    "p2p_21_zo = resultingFM.get_p2p()\n",
    "cmap1 = visu(mesh1.vertlist); cmap2 = cmap1[p2p_21_zo]\n",
    "double_plot(mesh1,mesh2,cmap1,cmap2)"
   ]
  }
 ],
 "metadata": {
  "kernelspec": {
   "display_name": "Python 3.9.7 ('base')",
   "language": "python",
   "name": "python3"
  },
  "language_info": {
   "codemirror_mode": {
    "name": "ipython",
    "version": 3
   },
   "file_extension": ".py",
   "mimetype": "text/x-python",
   "name": "python",
   "nbconvert_exporter": "python",
   "pygments_lexer": "ipython3",
   "version": "3.9.7"
  },
  "vscode": {
   "interpreter": {
    "hash": "3d4fdb5c5338a8fa7b742ce98cb975129d6aa57d42a9958c3fdc924baafbc05e"
   }
  }
 },
 "nbformat": 4,
 "nbformat_minor": 4
}
