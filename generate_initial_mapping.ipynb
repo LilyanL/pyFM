{
 "cells": [
  {
   "cell_type": "markdown",
   "metadata": {},
   "source": [
    "\n",
    "# 0 - Imports and defining functions"
   ]
  },
  {
   "cell_type": "code",
   "execution_count": null,
   "metadata": {},
   "outputs": [],
   "source": [
    "import numpy as np\n",
    "\n",
    "from pyFM.mesh import TriMesh\n",
    "from pyFM.functional import FunctionalMapping\n",
    "\n",
    "import meshplot as mp\n",
    "\n",
    "import os\n",
    "\n",
    "def plot_mesh(myMesh,cmap=None):\n",
    "    mp.plot(myMesh.vertlist, myMesh.facelist,c=cmap)\n",
    "    \n",
    "def double_plot(myMesh1,myMesh2,cmap1=None,cmap2=None):\n",
    "    d = mp.subplot(myMesh1.vertlist, myMesh1.facelist, c=cmap1, s=[2, 2, 0])\n",
    "    mp.subplot(myMesh2.vertlist, myMesh2.facelist, c=cmap2, s=[2, 2, 1], data=d)\n",
    "\n",
    "def visu(vertices):\n",
    "    min_coord,max_coord = np.min(vertices,axis=0,keepdims=True),np.max(vertices,axis=0,keepdims=True)\n",
    "    cmap = (vertices-min_coord)/(max_coord-min_coord)\n",
    "    return cmap"
   ]
  },
  {
   "cell_type": "markdown",
   "metadata": {},
   "source": [
    "# 1 - Data loading"
   ]
  },
  {
   "cell_type": "code",
   "execution_count": null,
   "metadata": {},
   "outputs": [],
   "source": [
    "# Input folder name\n",
    "inputFolder = 'PAIR_003'\n",
    "# Concatenate folder name with the path\n",
    "inputPath = '../data/' + inputFolder + '/'\n",
    "mesh1 = TriMesh(inputPath + 'target.off', area_normalize=True, center=False)\n",
    "mesh2 = TriMesh(inputPath + 'source.off', area_normalize=True, center=False)"
   ]
  },
  {
   "cell_type": "markdown",
   "metadata": {},
   "source": [
    "# 2- Visualization of eigen functions"
   ]
  },
  {
   "cell_type": "code",
   "execution_count": null,
   "metadata": {},
   "outputs": [],
   "source": [
    "# By default does not use the intrinsic delaunay Laplacian\n",
    "mesh1.process(k=100, intrinsic=False, verbose=True);\n",
    "\n",
    "# set up a figure twice as wide as it is tall\n",
    "i = 0\n",
    "d = mp.subplot(mesh1.vertlist, mesh1.facelist, c=mesh1.eigenvectors[:,i], s=[1, 10, 0])\n",
    "for i in range(1,10):\n",
    "    d = mp.subplot(mesh1.vertlist, mesh1.facelist, c=mesh1.eigenvectors[:,i], s=[1, 10, i], data=d)\n",
    "\n",
    "#d.save(\"myplottest\")"
   ]
  },
  {
   "cell_type": "markdown",
   "metadata": {},
   "source": [
    "# 3 - Computing the functional map"
   ]
  },
  {
   "cell_type": "markdown",
   "metadata": {},
   "source": [
    "**Displaying data**"
   ]
  },
  {
   "cell_type": "code",
   "execution_count": null,
   "metadata": {},
   "outputs": [],
   "source": [
    "print(f'Mesh 1 : {mesh1.n_vertices:4d} vertices, {mesh1.n_faces:5d} faces\\n'\n",
    "      f'Mesh 2 : {mesh2.n_vertices:4d} vertices, {mesh2.n_faces:5d} faces')\n",
    "\n",
    "d = mp.subplot(mesh1.vertlist, mesh1.facelist, None, s=[2, 2, 0])\n",
    "mp.subplot(mesh2.vertlist, mesh2.facelist, None, s=[2, 2, 1], data=d)"
   ]
  },
  {
   "cell_type": "markdown",
   "metadata": {},
   "source": [
    "**Add correspondences**"
   ]
  },
  {
   "cell_type": "code",
   "execution_count": null,
   "metadata": {},
   "outputs": [],
   "source": [
    "loadLandmark = True\n",
    "if loadLandmark:\n",
    "    landmarks = np.loadtxt(inputPath +'landmarks.txt',dtype=int)[:10]  # loading N landmarks\n",
    "    display(landmarks)\n",
    "\n",
    "    landmarks_mesh1 = TriMesh(mesh1.vertlist[landmarks[:,0]])\n",
    "    landmarks_mesh2 = TriMesh(mesh2.vertlist[landmarks[:,1]])\n",
    "\n",
    "    print('Retrieved matching faces from CT & RGBD pointclouds')\n",
    "    \n",
    "else:\n",
    "     landmarks = []\n",
    "\n",
    "#d = mp.subplot(mesh1.vertlist, mesh1.facelist, None, s=[2, 2, 0])\n",
    "\n",
    "p1 = mp.plot(mesh1.vertlist, mesh1.facelist, None)\n",
    "p2 = mp.plot(mesh2.vertlist, mesh2.facelist, None)\n",
    "\n",
    "if loadLandmark:\n",
    "    color = c=np.random.rand(*landmarks_mesh1.vertlist.shape)\n",
    "    p1.add_points(landmarks_mesh1.vertlist, c = color, shading={\"point_size\": 0.3})\n",
    "    p2.add_points(landmarks_mesh2.vertlist, c = color, shading={\"point_size\": 0.3})\n"
   ]
  },
  {
   "cell_type": "markdown",
   "metadata": {},
   "source": [
    "**Generate functional map directly from landmarks**"
   ]
  },
  {
   "cell_type": "code",
   "execution_count": null,
   "metadata": {},
   "outputs": [],
   "source": [
    "# Initialize vector 1 to 5\n",
    "p2p_21 = np.array([0,1,2,3,4,5])\n",
    "#p2p_21 = landmarks[:,1]\n",
    "dim = len(landmarks[:,0])\n",
    "\n",
    "resultingFM = FunctionalMapping(mesh1=mesh1, mesh2=mesh2)\n",
    "resultingFM.mesh1.process(k=100, intrinsic=False, verbose=True);\n",
    "resultingFM.mesh2.process(k=100, intrinsic=False, verbose=True);\n",
    "\n",
    "\n",
    "print(f'p2p map  : {p2p_21} \\n')\n",
    "print(f'eigen vectors 1 : {resultingFM.mesh1.eigenvectors[landmarks[:,0], :dim]} \\n')\n",
    "print(f'eigen vectors 2 : {resultingFM.mesh2.eigenvectors[landmarks[:,1], :dim]} \\n')\n",
    "print(f'dim : {dim} \\n') \n",
    "\n",
    "#test = pyFM.spectral.convert.p2p_to_FM(p2p_21, mesh1, mesh2, use_adj=False, subsample=None, use_ANN=False, n_jobs=1)\n",
    "import pyFM.spectral.convert\n",
    "#test = pyFM.spectral.convert.mesh_p2p_to_FM(p2p_21, mesh1, mesh2, dim, [landmarks[:,0], landmarks[:,1]])\n",
    "test = pyFM.spectral.convert.p2p_to_FM(p2p_21, resultingFM.mesh1.eigenvectors[landmarks[:,0], :dim+9], resultingFM.mesh2.eigenvectors[landmarks[:,1], :dim+9])\n",
    "\n",
    "#mesh_p2p_to_FM(p2p_21, mesh1, mesh2, dims=None, subsample=None):\n",
    "#p2p_to_FM(p2p_21, evects1, evects2, A2=None):\n",
    "\n",
    "print(f'FM : {test} \\n')\n",
    "\n",
    "# Resuling FM\n",
    "resultingFM.FM = test\n",
    "p2p_21 = resultingFM.get_p2p(n_jobs=1)\n",
    "cmap1 = visu(mesh1.vertlist); cmap2 = cmap1[p2p_21]\n",
    "double_plot(mesh1,mesh2,cmap1,cmap2)\n",
    "\n"
   ]
  },
  {
   "cell_type": "code",
   "execution_count": null,
   "metadata": {},
   "outputs": [],
   "source": [
    "p2p_21 = resultingFM.get_p2p(n_jobs=1)\n",
    "cmap1 = visu(mesh1.vertlist); cmap2 = cmap1[p2p_21]\n",
    "double_plot(mesh1,mesh2,cmap1,cmap2)\n",
    "\n",
    "#resultingFM.mesh1.process(k=12, intrinsic=False, verbose=True);\n",
    "#resultingFM.mesh2.process(k=12, intrinsic=False, verbose=True);\n",
    "\n",
    "#p2p_21 = resultingFM.get_p2p(n_jobs=1)\n",
    "#cmap1 = visu(mesh1.vertlist); cmap2 = cmap1[p2p_21]\n",
    "#double_plot(mesh1,mesh2,cmap1,cmap2)\n",
    "\n",
    "#resultingFM.mesh1.process(k=9, intrinsic=False, verbose=True);\n",
    "#resultingFM.mesh2.process(k=9, intrinsic=False, verbose=True);\n",
    "\n",
    "#p2p_21 = resultingFM.get_p2p(n_jobs=1)\n",
    "#cmap1 = visu(mesh1.vertlist); cmap2 = cmap1[p2p_21]\n",
    "#double_plot(mesh1,mesh2,cmap1,cmap2)"
   ]
  },
  {
   "cell_type": "code",
   "execution_count": null,
   "metadata": {},
   "outputs": [],
   "source": [
    "p2p_21 = resultingFM.get_p2p(n_jobs=1)\n",
    "cmap1 = visu(mesh1.vertlist); cmap2 = cmap1[p2p_21]\n",
    "double_plot(mesh1,mesh2,cmap1,cmap2)\n",
    "\n",
    "#resultingFM.mesh1.process(k=9, intrinsic=False, verbose=True);\n",
    "#resultingFM.mesh2.process(k=9, intrinsic=False, verbose=True);\n",
    "\n",
    "\n",
    "\n",
    "resultingFM.change_FM_type('classic') # We refine the first computed map ('classic') or the icp-refined one ('icp')\n",
    "resultingFM._FM_base = test\n",
    "\n",
    "resultingFM.zoomout_refine(nit=10, step = 2, verbose=True)\n",
    "print(resultingFM.FM.shape)\n",
    "\n",
    "p2p_21_zo = resultingFM.get_p2p()\n",
    "cmap1 = visu(mesh1.vertlist); cmap2 = cmap1[p2p_21_zo]\n",
    "double_plot(mesh1,mesh2,cmap1,cmap2)"
   ]
  },
  {
   "cell_type": "code",
   "execution_count": null,
   "metadata": {},
   "outputs": [],
   "source": [
    "# check if data_out folder exists, if not create it\n",
    "if not os.path.exists('data_out'):\n",
    "    os.makedirs('data_out')\n",
    "\n",
    "# export point to point mappings if they exist\n",
    "\n",
    "# zoomout refined point to point mapping\n",
    "if 'p2p_21_zo' in locals():\n",
    "    # open file in write mode\n",
    "    with open(r'data_out/p2p_zo.txt', 'w') as f_export_zo:\n",
    "        for item in p2p_21_zo:\n",
    "            # write each item on a new line\n",
    "            f_export_zo.write(\"%s\\n\" % item)\n",
    "        print('Exported zoomout refined point to point mapping')"
   ]
  }
 ],
 "metadata": {
  "kernelspec": {
   "display_name": "Python 3.9.7 ('base')",
   "language": "python",
   "name": "python3"
  },
  "language_info": {
   "codemirror_mode": {
    "name": "ipython",
    "version": 3
   },
   "file_extension": ".py",
   "mimetype": "text/x-python",
   "name": "python",
   "nbconvert_exporter": "python",
   "pygments_lexer": "ipython3",
   "version": "3.9.7"
  },
  "vscode": {
   "interpreter": {
    "hash": "3d4fdb5c5338a8fa7b742ce98cb975129d6aa57d42a9958c3fdc924baafbc05e"
   }
  }
 },
 "nbformat": 4,
 "nbformat_minor": 4
}
